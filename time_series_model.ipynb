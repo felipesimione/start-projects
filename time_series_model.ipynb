{
 "cells": [
  {
   "cell_type": "markdown",
   "metadata": {},
   "source": [
    "# DESAFIO SÉRIES TEMPORAIS\n",
    "\n",
    "### Objetivo:\n",
    "\n",
    "Criar um modelo de Séries Temporais Históricas a partir da base de dados pública Daibetes, que pode ser encontrada nesta URL: http://archive.ics.uci.edu/ml/datasets/Diabetes\n",
    "\n",
    "### Necessidade:\n",
    "\n",
    "O modelo de Séries Temporaris em Python foi desenvolvido considerando os critérios abaixo:\n",
    "\n",
    "•\tExplicar o porque escolheu o algoritmo de Séries Temporais usado (e porque não usou outros);<br/>\n",
    "•\tReceber as entradas específicas (escolher as variáveis pertinentes);<br/>\n",
    "•\tJustificar a escolha das variáveis;<br/>\n",
    "•\tJustificar a performance do modelo de séries temporais, com base nos métodos de avaliação pertinentes;<br/>"
   ]
  },
  {
   "cell_type": "code",
   "execution_count": 572,
   "metadata": {},
   "outputs": [],
   "source": [
    "import numpy as np\n",
    "import pandas as pd\n",
    "import os\n",
    "import datetime\n",
    "import matplotlib.pyplot as plt\n",
    "import seaborn as sns\n",
    "from sklearn.linear_model import LinearRegression\n",
    "from sklearn.metrics import mean_absolute_error\n",
    "sns.set()\n",
    "%matplotlib inline"
   ]
  },
  {
   "cell_type": "code",
   "execution_count": 472,
   "metadata": {},
   "outputs": [],
   "source": [
    "# Montando dataframe com dados de Diabetes\n",
    "data_home = \"C:\\\\Users\\\\felipe.simione\\\\Desktop\\\\Lambda3\\\\DESAFIO10\\\\data\\\\\"\n",
    "df_total = pd.DataFrame(columns=['date','time','code','value'])\n",
    "for i in range(70):\n",
    "    # Carregamento de todos os dados da atividade especificada\n",
    "    file_names = [filename for filename in os.listdir(data_home)]\n",
    "    walk_file = data_home + file_names[i]\n",
    "    df = pd.read_csv(walk_file, names = ['date','time','code','value'], sep='\\t')\n",
    "    df_total = df_total.append(df)"
   ]
  },
  {
   "cell_type": "code",
   "execution_count": 496,
   "metadata": {},
   "outputs": [],
   "source": [
    "# Exportando os dados para tratar data no excel\n",
    "df_total.to_csv('tratar_dados.csv')"
   ]
  },
  {
   "cell_type": "code",
   "execution_count": 718,
   "metadata": {},
   "outputs": [],
   "source": [
    "df_total = pd.read_csv('data.csv',  sep=';')"
   ]
  },
  {
   "cell_type": "code",
   "execution_count": 719,
   "metadata": {},
   "outputs": [],
   "source": [
    "df_total['value'] = df_total['value'].apply(lambda x: x.str.strip() if type(x) == 'object' else x)"
   ]
  },
  {
   "cell_type": "code",
   "execution_count": 720,
   "metadata": {},
   "outputs": [],
   "source": [
    "df_total['value'] = pd.to_numeric(df_total['value'], errors='coerce')\n",
    "df_total['date'] = pd.to_datetime(df_total['date'], format=\"%Y-%m-%d\")#.dt.to_period('M')\n",
    "df_total['year_month'] = df_total['date'] + pd.offsets.MonthBegin(-1)"
   ]
  },
  {
   "cell_type": "code",
   "execution_count": 858,
   "metadata": {},
   "outputs": [],
   "source": [
    "# Deletando os dados NaN\n",
    "df_total.dropna(axis=0, subset=['date'], inplace=True)"
   ]
  },
  {
   "cell_type": "code",
   "execution_count": 859,
   "metadata": {},
   "outputs": [],
   "source": [
    "# Ordendando os dados por date/time\n",
    "df_total.sort_values(['year_month','time'], ascending=True, inplace=True)"
   ]
  },
  {
   "cell_type": "markdown",
   "metadata": {},
   "source": [
    "A análise será feita somente para o code \"NPH insulin dose\""
   ]
  },
  {
   "cell_type": "code",
   "execution_count": 899,
   "metadata": {},
   "outputs": [],
   "source": [
    "# Preparando dados para análise mes/ano\n",
    "df_code = df_total.query('code == 34')[['year_month','value']]\n",
    "df_code = df_code.groupby(['year_month'])['value'].sum().to_frame().reset_index()\n",
    "df_code.sort_values(['year_month'], ascending=True, inplace=True)"
   ]
  },
  {
   "cell_type": "code",
   "execution_count": 900,
   "metadata": {},
   "outputs": [],
   "source": [
    "# Indexando mes/ano para gráfico\n",
    "df_code_graf = df_code.set_index('year_month')"
   ]
  },
  {
   "cell_type": "code",
   "execution_count": 901,
   "metadata": {},
   "outputs": [
    {
     "data": {
      "text/plain": [
       "[<matplotlib.lines.Line2D at 0x255671352b0>]"
      ]
     },
     "execution_count": 901,
     "metadata": {},
     "output_type": "execute_result"
    },
    {
     "data": {
      "image/png": "[encoded data removed]",
      "text/plain": [
       "<Figure size 1080x360 with 1 Axes>"
      ]
     },
     "metadata": {},
     "output_type": "display_data"
    }
   ],
   "source": [
    "# Plotando gráfico\n",
    "plt.figure(figsize=(15,5))\n",
    "plt.plot(df_code_graf)"
   ]
  },
  {
   "cell_type": "code",
   "execution_count": 902,
   "metadata": {},
   "outputs": [
    {
     "data": {
      "text/html": [
       "<div>\n",
       "<style scoped>\n",
       "    .dataframe tbody tr th:only-of-type {\n",
       "        vertical-align: middle;\n",
       "    }\n",
       "\n",
       "    .dataframe tbody tr th {\n",
       "        vertical-align: top;\n",
       "    }\n",
       "\n",
       "    .dataframe thead th {\n",
       "        text-align: right;\n",
       "    }\n",
       "</style>\n",
       "<table border=\"1\" class=\"dataframe\">\n",
       "  <thead>\n",
       "    <tr style=\"text-align: right;\">\n",
       "      <th></th>\n",
       "      <th>value</th>\n",
       "    </tr>\n",
       "  </thead>\n",
       "  <tbody>\n",
       "    <tr>\n",
       "      <th>count</th>\n",
       "      <td>43.000000</td>\n",
       "    </tr>\n",
       "    <tr>\n",
       "      <th>mean</th>\n",
       "      <td>1366.418605</td>\n",
       "    </tr>\n",
       "    <tr>\n",
       "      <th>std</th>\n",
       "      <td>1510.945403</td>\n",
       "    </tr>\n",
       "    <tr>\n",
       "      <th>min</th>\n",
       "      <td>60.000000</td>\n",
       "    </tr>\n",
       "    <tr>\n",
       "      <th>25%</th>\n",
       "      <td>397.000000</td>\n",
       "    </tr>\n",
       "    <tr>\n",
       "      <th>50%</th>\n",
       "      <td>646.000000</td>\n",
       "    </tr>\n",
       "    <tr>\n",
       "      <th>75%</th>\n",
       "      <td>2074.500000</td>\n",
       "    </tr>\n",
       "    <tr>\n",
       "      <th>max</th>\n",
       "      <td>5459.000000</td>\n",
       "    </tr>\n",
       "  </tbody>\n",
       "</table>\n",
       "</div>"
      ],
      "text/plain": [
       "             value\n",
       "count    43.000000\n",
       "mean   1366.418605\n",
       "std    1510.945403\n",
       "min      60.000000\n",
       "25%     397.000000\n",
       "50%     646.000000\n",
       "75%    2074.500000\n",
       "max    5459.000000"
      ]
     },
     "execution_count": 902,
     "metadata": {},
     "output_type": "execute_result"
    }
   ],
   "source": [
    "df_code.describe()"
   ]
  },
  {
   "cell_type": "code",
   "execution_count": 941,
   "metadata": {},
   "outputs": [
    {
     "name": "stdout",
     "output_type": "stream",
     "text": [
      "[2307.20588235]\n"
     ]
    }
   ],
   "source": [
    "# Implementando o modelo ARIMA\n",
    "from statsmodels.tsa.arima_model import ARIMA\n",
    "from random import random\n",
    "# obtendo os dados\n",
    "data = df_code['value'].iloc[:-8].values\n",
    "# fit modelo\n",
    "model = ARIMA(data, order=(0, 1, 0))\n",
    "model_fit = model.fit(disp=False)\n",
    "# Fazendo predição e imprimindo\n",
    "yhat = model_fit.predict(len(data), len(data), typ='levels')\n",
    "print(yhat)"
   ]
  },
  {
   "cell_type": "code",
   "execution_count": 942,
   "metadata": {},
   "outputs": [
    {
     "data": {
      "text/html": [
       "<table class=\"simpletable\">\n",
       "<caption>ARIMA Model Results</caption>\n",
       "<tr>\n",
       "  <th>Dep. Variable:</th>        <td>D.y</td>       <th>  No. Observations:  </th>    <td>34</td>   \n",
       "</tr>\n",
       "<tr>\n",
       "  <th>Model:</th>          <td>ARIMA(0, 1, 0)</td>  <th>  Log Likelihood     </th> <td>-281.066</td>\n",
       "</tr>\n",
       "<tr>\n",
       "  <th>Method:</th>               <td>css</td>       <th>  S.D. of innovations</th>  <td>941.734</td>\n",
       "</tr>\n",
       "<tr>\n",
       "  <th>Date:</th>          <td>Sat, 27 Oct 2018</td> <th>  AIC                </th>  <td>566.133</td>\n",
       "</tr>\n",
       "<tr>\n",
       "  <th>Time:</th>              <td>16:26:30</td>     <th>  BIC                </th>  <td>569.186</td>\n",
       "</tr>\n",
       "<tr>\n",
       "  <th>Sample:</th>                <td>1</td>        <th>  HQIC               </th>  <td>567.174</td>\n",
       "</tr>\n",
       "<tr>\n",
       "  <th></th>                       <td> </td>        <th>                     </th>     <td> </td>   \n",
       "</tr>\n",
       "</table>\n",
       "<table class=\"simpletable\">\n",
       "<tr>\n",
       "    <td></td>       <th>coef</th>     <th>std err</th>      <th>z</th>      <th>P>|z|</th>  <th>[0.025</th>    <th>0.975]</th>  \n",
       "</tr>\n",
       "<tr>\n",
       "  <th>const</th> <td>   64.2059</td> <td>  161.506</td> <td>    0.398</td> <td> 0.694</td> <td> -252.340</td> <td>  380.752</td>\n",
       "</tr>\n",
       "</table>"
      ],
      "text/plain": [
       "<class 'statsmodels.iolib.summary.Summary'>\n",
       "\"\"\"\n",
       "                             ARIMA Model Results                              \n",
       "==============================================================================\n",
       "Dep. Variable:                    D.y   No. Observations:                   34\n",
       "Model:                 ARIMA(0, 1, 0)   Log Likelihood                -281.066\n",
       "Method:                           css   S.D. of innovations            941.734\n",
       "Date:                Sat, 27 Oct 2018   AIC                            566.133\n",
       "Time:                        16:26:30   BIC                            569.186\n",
       "Sample:                             1   HQIC                           567.174\n",
       "                                                                              \n",
       "==============================================================================\n",
       "                 coef    std err          z      P>|z|      [0.025      0.975]\n",
       "------------------------------------------------------------------------------\n",
       "const         64.2059    161.506      0.398      0.694    -252.340     380.752\n",
       "==============================================================================\n",
       "\"\"\""
      ]
     },
     "execution_count": 942,
     "metadata": {},
     "output_type": "execute_result"
    }
   ],
   "source": [
    "model_fit.summary()"
   ]
  },
  {
   "cell_type": "code",
   "execution_count": 943,
   "metadata": {},
   "outputs": [
    {
     "data": {
      "image/png": "[encoded data removed]",
      "text/plain": [
       "<Figure size 432x288 with 1 Axes>"
      ]
     },
     "execution_count": 943,
     "metadata": {},
     "output_type": "execute_result"
    },
    {
     "data": {
      "image/png": "[encoded data removed]",
      "text/plain": [
       "<Figure size 432x288 with 1 Axes>"
      ]
     },
     "metadata": {},
     "output_type": "display_data"
    }
   ],
   "source": [
    "# Plotando um gráfico com previsão e demanda real\n",
    "model_fit.plot_predict(len(data)-24, len(data)+6)"
   ]
  },
  {
   "cell_type": "code",
   "execution_count": 911,
   "metadata": {},
   "outputs": [
    {
     "name": "stdout",
     "output_type": "stream",
     "text": [
      "[2109.24516326]\n"
     ]
    }
   ],
   "source": [
    "# Implementando o modelo SARIMAX\n",
    "from statsmodels.tsa.statespace.sarimax import SARIMAX\n",
    "from random import random\n",
    "# Obtendo dados\n",
    "data = df_code['value'].iloc[:-8].values\n",
    "# fit modelo\n",
    "model = SARIMAX(data, order=(1, 1, 1), seasonal_order=(1, 1, 1, 1))\n",
    "model_fit = model.fit(disp=False)\n",
    "# Fazendo a predição\n",
    "yhat = model_fit.predict(len(data), len(data))\n",
    "print(yhat)"
   ]
  },
  {
   "cell_type": "code",
   "execution_count": 912,
   "metadata": {},
   "outputs": [
    {
     "name": "stdout",
     "output_type": "stream",
     "text": [
      "[1877.01631532]\n"
     ]
    }
   ],
   "source": [
    "#  Implementando o modelo SES\n",
    "from statsmodels.tsa.holtwinters import SimpleExpSmoothing\n",
    "from random import random\n",
    "# Obtendo dados\n",
    "data = df_code['value'].iloc[:-8].values\n",
    "# fit modelo\n",
    "model = SimpleExpSmoothing(data)\n",
    "model_fit = model.fit()\n",
    "# Fazendo a predição\n",
    "yhat = model_fit.predict(len(data), len(data))\n",
    "print(yhat)"
   ]
  },
  {
   "cell_type": "code",
   "execution_count": 913,
   "metadata": {},
   "outputs": [
    {
     "name": "stdout",
     "output_type": "stream",
     "text": [
      "[2744.70175516]\n"
     ]
    }
   ],
   "source": [
    "# Implementando o modelo HWES\n",
    "from statsmodels.tsa.holtwinters import ExponentialSmoothing\n",
    "from random import random\n",
    "# Obtendo dados\n",
    "data = df_code['value'].iloc[:-6].values\n",
    "# fit modelo\n",
    "model = ExponentialSmoothing(data)\n",
    "model_fit = model.fit()\n",
    "# Fazendo a predição\n",
    "yhat = model_fit.predict(len(data), len(data))\n",
    "print(yhat)"
   ]
  },
  {
   "cell_type": "code",
   "execution_count": 914,
   "metadata": {},
   "outputs": [
    {
     "data": {
      "text/plain": [
       "35    1952.0\n",
       "Name: value, dtype: float64"
      ]
     },
     "execution_count": 914,
     "metadata": {},
     "output_type": "execute_result"
    }
   ],
   "source": [
    "# Valor real do mês seguinte a previsão\n",
    "df_code['value'].iloc[-8:-7]"
   ]
  },
  {
   "cell_type": "markdown",
   "metadata": {},
   "source": [
    "# Conclusão\n",
    "\n",
    "### Escolha do modelo:\n",
    "\n",
    "Foram implentados alguns modelos para teste e o ARIMA foi o que obteve melhores resultados neste caso.\n",
    "\n",
    "### Variáveis:\n",
    "\n",
    "Algumas variações de ordem foram testadas chegando ao resultado de (0,1,0) para este caso.\n",
    "\n",
    "### Resultado:\n",
    "\n",
    "Os modelos de séries temporais precisam ser bem trabalhados e analisados, para isso precisamos obter o máximo de informações de como cada modelo funciona e suas variáveis, além disso efetuar uma análise exploratória mais aprofundada.\n",
    "\n",
    "Nesta aplicação não trabalhamos de forma aprofundada, assim só implementamos os modelos e outputs. Em um proximo passo precisamos enteder todos os aspectos e necessidades para uma melhor aplicação.\n"
   ]
  }
 ],
 "metadata": {
  "kernelspec": {
   "display_name": "Python 3",
   "language": "python",
   "name": "python3"
  },
  "language_info": {
   "codemirror_mode": {
    "name": "ipython",
    "version": 3
   },
   "file_extension": ".py",
   "mimetype": "text/x-python",
   "name": "python",
   "nbconvert_exporter": "python",
   "pygments_lexer": "ipython3",
   "version": "3.7.1"
  }
 },
 "nbformat": 4,
 "nbformat_minor": 2
}
