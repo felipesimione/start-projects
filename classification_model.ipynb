{
 "cells": [
  {
   "cell_type": "markdown",
   "metadata": {},
   "source": [
    "# DESAFIO MODELO DE CLASSIFICAÇÃO IRIS\n",
    "\n",
    "### Objetivo:\n",
    "\n",
    "Criar um modelo de classificação a partir da base de dados pública Iris que pode ser encontrada nesta URL: https://archive.ics.uci.edu/ml/datasets/Iris"
   ]
  },
  {
   "cell_type": "code",
   "execution_count": 2,
   "metadata": {},
   "outputs": [],
   "source": [
    "import pandas as pd\n",
    "from sklearn.model_selection import train_test_split\n",
    "from sklearn.neighbors import KNeighborsClassifier"
   ]
  },
  {
   "cell_type": "code",
   "execution_count": 3,
   "metadata": {},
   "outputs": [],
   "source": [
    "# Importação dos dados da base iris.data para aplicar Machine Learning\n",
    "df_iris = pd.read_csv('iris.data', header=None)"
   ]
  },
  {
   "cell_type": "code",
   "execution_count": 4,
   "metadata": {},
   "outputs": [],
   "source": [
    "# Divisão dos eixos do conjunto de dados\n",
    "array = df_iris.values\n",
    "iris_x = array[:,0:4]\n",
    "iris_y = array[:,4]"
   ]
  },
  {
   "cell_type": "code",
   "execution_count": 5,
   "metadata": {},
   "outputs": [],
   "source": [
    "# Separação do conjunto de dados em treino e teste\n",
    "X_train, X_test, y_train, y_test = train_test_split(iris_x, iris_y, random_state = 0)"
   ]
  },
  {
   "cell_type": "code",
   "execution_count": 8,
   "metadata": {},
   "outputs": [
    {
     "data": {
      "text/plain": [
       "KNeighborsClassifier(algorithm='auto', leaf_size=30, metric='minkowski',\n",
       "           metric_params=None, n_jobs=1, n_neighbors=1, p=2,\n",
       "           weights='uniform')"
      ]
     },
     "execution_count": 8,
     "metadata": {},
     "output_type": "execute_result"
    }
   ],
   "source": [
    "# Criação e Treino do modelo\n",
    "knn = KNeighborsClassifier(n_neighbors = 1)\n",
    "knn.fit(X_train, y_train)"
   ]
  },
  {
   "cell_type": "code",
   "execution_count": 9,
   "metadata": {},
   "outputs": [
    {
     "name": "stdout",
     "output_type": "stream",
     "text": [
      "A acurácia é de 97.37%\n"
     ]
    }
   ],
   "source": [
    "# Medição da acurácia do modelo\n",
    "print('A acurácia é de {0}%'.format(round(knn.score(X_test, y_test)*100,2)))"
   ]
  },
  {
   "cell_type": "markdown",
   "metadata": {},
   "source": [
    "# Conclusão\n",
    "\n",
    "### Escolha do modelo:\n",
    "\n",
    "Como vantagens o algorítimo KNN é simples de implementar, rápido de treinar e não desperdiça informação. \n",
    "\n",
    "Como desvantagens, o KNN não tem bons resultados com a presença de ruídos e características irrelevantes, além de que não cria um modelo e sim regras no momento da classificação, ou seja, todas as vezes que for necessário classificar, o KNN fará os calculos novamente, tornando o modelo lento no caso de consultas. \n",
    "\n",
    "Em relação a outros modelos testados (SVC, Árvore de Decisão e Naive Bayes), com exceção do Naive Bayes, todos apresentaram uma acurácia igual ou inferior ao KNN.\n",
    "\n",
    "Considerando as vantagens do modelo escolhido e o fato de que a base analisada seja de qualidade e não possua ruídos, o algorítimo KNN se encaixa melhor no projeto proposto. Além disso, considerei o fato do projeto envolver apenas a implementação do algorítimo.\n",
    "\n",
    "### Variáveis:\n",
    "\n",
    "A variável n_neighbors = 1 (número de vizinhos próximos) foi escolhida, pois as variações testadas não impactam em um melhor resultado.\n",
    "\n",
    "### Resultado:\n",
    "\n",
    "A avaliação do resultado depende de cada cenário e do resultado que se desseja obter. Outro ponto é que dependendo da necessidade (não trabalhando com risco de vida por exemplo), um modelo pode ser considerado bom acima de 50% na sua primeira instancia, sendo o ideal acima de 70%. Por esse motivo e considerando o fato de que para esse modelo não tenha um resultado esperado, a acurácia de **97,37%** é considerada ótima para o modelo proposto.\n",
    "\n",
    "É importante que o modelo esteja sempre em evolução para otimização e obtenção de melhores resultados comparado com a primeira instância."
   ]
  },
  {
   "cell_type": "code",
   "execution_count": null,
   "metadata": {},
   "outputs": [],
   "source": []
  }
 ],
 "metadata": {
  "kernelspec": {
   "display_name": "Python 3",
   "language": "python",
   "name": "python3"
  },
  "language_info": {
   "codemirror_mode": {
    "name": "ipython",
    "version": 3
   },
   "file_extension": ".py",
   "mimetype": "text/x-python",
   "name": "python",
   "nbconvert_exporter": "python",
   "pygments_lexer": "ipython3",
   "version": "3.7.1"
  }
 },
 "nbformat": 4,
 "nbformat_minor": 2
}
