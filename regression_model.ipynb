{
 "cells": [
  {
   "cell_type": "markdown",
   "metadata": {},
   "source": [
    "# DESAFIO MODELO DE REGRESSÃO\n",
    "\n",
    "### Objetivo:\n",
    "\n",
    "Criar um modelo de Regressão a partir da base de dados pública Air Quality, que pode ser encontrada nesta URL: https://archive.ics.uci.edu/ml/datasets/Air+Quality \n",
    "\n",
    "### Necessidade:\n",
    "\n",
    "O modelo de regressão em Python foi criando considerando os pontos abaixo:\n",
    "\n",
    "•\tO dataset deve ser o Air Quality;<br />\n",
    "•\tA variável alvo é a PT08.S4 (óxido de tungstênio);<br />\n",
    "•\tPredizer o valor da variável alvo, dada uma combinação de valores das variáveis explicativas;<br />\n",
    "•\tExplicar o porque escolheu o algoritmo de regressão usado (e porque não usou outros);<br />\n",
    "•\tReceber as entradas específicas (escolher as variáveis pertinentes);<br />\n",
    "•\tJustificar a escolha das variáveis;<br />\n",
    "•\tApresentar a saída estimada;<br />\n",
    "•\tJustificar a performance do modelo de regressão, com base nos métodos de avaliação pertinentes.\n",
    "\n"
   ]
  },
  {
   "cell_type": "code",
   "execution_count": 1,
   "metadata": {},
   "outputs": [],
   "source": [
    "import pandas as pd\n",
    "import numpy as np\n",
    "import matplotlib.pyplot as plt\n",
    "import matplotlib as mpl\n",
    "from sklearn import linear_model\n",
    "import statsmodels.api as sm\n",
    "import statsmodels.formula.api as smf\n",
    "import warnings\n",
    "warnings.filterwarnings(\"ignore\")\n",
    "%matplotlib inline "
   ]
  },
  {
   "cell_type": "code",
   "execution_count": 2,
   "metadata": {},
   "outputs": [],
   "source": [
    "# Importação dos dados da base iris.data para aplicar Machine Learning\n",
    "df_airq = pd.read_csv('AirQualityUCI.csv', sep=';')"
   ]
  },
  {
   "cell_type": "code",
   "execution_count": 3,
   "metadata": {},
   "outputs": [],
   "source": [
    "# Renomeando os nomes das colunas\n",
    "df_airq.rename(columns={'CO(GT)':'co_gt','PT08.S1(CO)':'pt08s1_co','NMHC(GT)':'nmhc_gt','C6H6(GT)':'c6h6_gt'\n",
    "                        ,'PT08.S2(NMHC)':'pt08s2_nmhc','NOx(GT)':'nox_gt','PT08.S3(NOx)':'pt08s3_nox','NO2(GT)':'no2_gt'\n",
    "                        ,'PT08.S4(NO2)':'pt08s4_no2','PT08.S5(O3)':'pt08s5_o3'}, inplace=True)\n",
    "df_airq = df_airq.iloc[:,:-2]\n",
    "df_airq.columns = df_airq.columns.str.lower()"
   ]
  },
  {
   "cell_type": "code",
   "execution_count": 4,
   "metadata": {},
   "outputs": [],
   "source": [
    "# Deletando todos as linhas com NaN\n",
    "df_airq.dropna(axis=0, inplace=True)"
   ]
  },
  {
   "cell_type": "code",
   "execution_count": 5,
   "metadata": {},
   "outputs": [],
   "source": [
    "# Ajustando tipo dos dados \n",
    "#df_airq.info()\n",
    "df_airq['t'] = df_airq['t'].replace(',','.', regex=True).astype(float)\n",
    "df_airq['rh'] = df_airq['rh'].replace(',','.', regex=True).astype(float)\n",
    "df_airq['ah'] = df_airq['ah'].replace(',','.', regex=True).astype(float)\n",
    "df_airq['co_gt'] = df_airq['co_gt'].replace(',','.', regex=True).astype(float)\n",
    "df_airq['c6h6_gt'] = df_airq['c6h6_gt'].replace(',','.', regex=True).astype(float)\n",
    "df_airq['date'] = pd.to_datetime(df_airq['date'])\n",
    "df_airq['time'] = df_airq['time'].str[:2]\n",
    "df_airq['time'] = df_airq['time'].astype(str).astype(int)"
   ]
  },
  {
   "cell_type": "code",
   "execution_count": 6,
   "metadata": {},
   "outputs": [],
   "source": [
    "# Criando coluna mês para merge da média\n",
    "df_airq['mes'] = df_airq['date'].dt.month\n",
    "df_airq['mes'] = df_airq['mes'].astype(str).astype(int)"
   ]
  },
  {
   "cell_type": "code",
   "execution_count": 7,
   "metadata": {},
   "outputs": [
    {
     "data": {
      "text/plain": [
       "366"
      ]
     },
     "execution_count": 7,
     "metadata": {},
     "output_type": "execute_result"
    }
   ],
   "source": [
    "# Com exceção do Date e Time, todos os campos possuem -200, a solução foi usar a média de cada campo \n",
    "#    considerando mês/hora para não perder informação dos demais campos.\n",
    "df_airq.query('c6h6_gt == -200')['ah'].count()"
   ]
  },
  {
   "cell_type": "code",
   "execution_count": 8,
   "metadata": {},
   "outputs": [],
   "source": [
    "# Fazendo agrupamento com média dos campos usando mes e time \n",
    "for i in df_airq.iloc[:,2:15]:\n",
    "    df_mean = df_airq.query('{0} != -200'.format(i)).copy()\n",
    "    df_mean = df_mean.groupby(['mes','time'])['{0}'.format(str(i))].mean()\n",
    "    df_mean = df_mean.to_frame()\n",
    "    df_mean.rename(columns={'{0}'.format(str(i)):'{0}_mean'.format(str(i))}, inplace=True)\n",
    "    df_airq = pd.merge(df_airq, df_mean, on=['mes','time'])   "
   ]
  },
  {
   "cell_type": "code",
   "execution_count": 9,
   "metadata": {},
   "outputs": [],
   "source": [
    "# Trocando todos os valores -200 por média calculada anteriormente\n",
    "df_airq['co_gt'] = df_airq.apply(lambda x: x.co_gt_mean if x.co_gt == -200 else x.co_gt, axis=1)\n",
    "df_airq['pt08s1_co'] = df_airq.apply(lambda x: x.pt08s1_co_mean if x.pt08s1_co == -200 else x.pt08s1_co, axis=1)\n",
    "df_airq['nmhc_gt'] = df_airq.apply(lambda x: x.nmhc_gt_mean if x.nmhc_gt == -200 else x.nmhc_gt, axis=1)\n",
    "df_airq['c6h6_gt'] = df_airq.apply(lambda x: x.c6h6_gt_mean if x.c6h6_gt == -200 else x.c6h6_gt, axis=1)\n",
    "df_airq['pt08s2_nmhc'] = df_airq.apply(lambda x: x.pt08s2_nmhc_mean if x.pt08s2_nmhc == -200 else x.pt08s2_nmhc, axis=1)\n",
    "df_airq['nox_gt'] = df_airq.apply(lambda x: x.nox_gt_mean if x.nox_gt == -200 else x.nox_gt, axis=1)\n",
    "df_airq['pt08s3_nox'] = df_airq.apply(lambda x: x.pt08s3_nox_mean if x.pt08s3_nox == -200 else x.pt08s3_nox, axis=1)\n",
    "df_airq['no2_gt'] = df_airq.apply(lambda x: x.no2_gt_mean if x.no2_gt == -200 else x.no2_gt, axis=1)\n",
    "df_airq['pt08s4_no2'] = df_airq.apply(lambda x: x.pt08s4_no2_mean if x.pt08s4_no2 == -200 else x.pt08s4_no2, axis=1)\n",
    "df_airq['pt08s5_o3'] = df_airq.apply(lambda x: x.pt08s5_o3_mean if x.pt08s5_o3 == -200 else x.pt08s5_o3, axis=1)\n",
    "df_airq['t'] = df_airq.apply(lambda x: x.t_mean if x.t == -200 else x.t, axis=1)\n",
    "df_airq['rh'] = df_airq.apply(lambda x: x.rh_mean if x.rh == -200 else x.rh, axis=1)\n",
    "df_airq['ah'] = df_airq.apply(lambda x: x.ah_mean if x.ah == -200 else x.ah, axis=1)"
   ]
  },
  {
   "cell_type": "code",
   "execution_count": 10,
   "metadata": {},
   "outputs": [],
   "source": [
    "# Obtendo somente os campos necessários\n",
    "df_airq = df_airq.iloc[:,1:16]"
   ]
  },
  {
   "cell_type": "code",
   "execution_count": 11,
   "metadata": {},
   "outputs": [],
   "source": [
    "# Ajustando ordem das colunas\n",
    "df_airq = df_airq.iloc[:,np.r_[0,14,1,2,3,4,5,6,7,8,10,11,12,13,9]]"
   ]
  },
  {
   "cell_type": "code",
   "execution_count": 12,
   "metadata": {},
   "outputs": [
    {
     "data": {
      "text/html": [
       "<div>\n",
       "<style scoped>\n",
       "    .dataframe tbody tr th:only-of-type {\n",
       "        vertical-align: middle;\n",
       "    }\n",
       "\n",
       "    .dataframe tbody tr th {\n",
       "        vertical-align: top;\n",
       "    }\n",
       "\n",
       "    .dataframe thead th {\n",
       "        text-align: right;\n",
       "    }\n",
       "</style>\n",
       "<table border=\"1\" class=\"dataframe\">\n",
       "  <thead>\n",
       "    <tr style=\"text-align: right;\">\n",
       "      <th></th>\n",
       "      <th>time</th>\n",
       "      <th>mes</th>\n",
       "      <th>co_gt</th>\n",
       "      <th>pt08s1_co</th>\n",
       "      <th>nmhc_gt</th>\n",
       "      <th>c6h6_gt</th>\n",
       "      <th>pt08s2_nmhc</th>\n",
       "      <th>nox_gt</th>\n",
       "      <th>pt08s3_nox</th>\n",
       "      <th>no2_gt</th>\n",
       "      <th>pt08s5_o3</th>\n",
       "      <th>t</th>\n",
       "      <th>rh</th>\n",
       "      <th>ah</th>\n",
       "      <th>pt08s4_no2</th>\n",
       "    </tr>\n",
       "  </thead>\n",
       "  <tbody>\n",
       "    <tr>\n",
       "      <th>count</th>\n",
       "      <td>8894.000000</td>\n",
       "      <td>8894.000000</td>\n",
       "      <td>8894.000000</td>\n",
       "      <td>8894.000000</td>\n",
       "      <td>8894.000000</td>\n",
       "      <td>8894.000000</td>\n",
       "      <td>8894.000000</td>\n",
       "      <td>8894.000000</td>\n",
       "      <td>8894.000000</td>\n",
       "      <td>8894.000000</td>\n",
       "      <td>8894.000000</td>\n",
       "      <td>8894.000000</td>\n",
       "      <td>8894.000000</td>\n",
       "      <td>8894.000000</td>\n",
       "      <td>8894.000000</td>\n",
       "    </tr>\n",
       "    <tr>\n",
       "      <th>mean</th>\n",
       "      <td>11.888689</td>\n",
       "      <td>6.361255</td>\n",
       "      <td>2.161438</td>\n",
       "      <td>1106.492442</td>\n",
       "      <td>230.734883</td>\n",
       "      <td>10.274375</td>\n",
       "      <td>947.285469</td>\n",
       "      <td>245.483123</td>\n",
       "      <td>826.068018</td>\n",
       "      <td>112.221716</td>\n",
       "      <td>1032.302291</td>\n",
       "      <td>18.380559</td>\n",
       "      <td>49.053549</td>\n",
       "      <td>1.025174</td>\n",
       "      <td>1458.581503</td>\n",
       "    </tr>\n",
       "    <tr>\n",
       "      <th>std</th>\n",
       "      <td>6.858285</td>\n",
       "      <td>3.534417</td>\n",
       "      <td>1.380152</td>\n",
       "      <td>212.975420</td>\n",
       "      <td>201.805238</td>\n",
       "      <td>7.343586</td>\n",
       "      <td>262.011256</td>\n",
       "      <td>202.332514</td>\n",
       "      <td>249.204066</td>\n",
       "      <td>46.189651</td>\n",
       "      <td>392.917869</td>\n",
       "      <td>8.872402</td>\n",
       "      <td>17.283098</td>\n",
       "      <td>0.401038</td>\n",
       "      <td>343.617890</td>\n",
       "    </tr>\n",
       "    <tr>\n",
       "      <th>min</th>\n",
       "      <td>0.000000</td>\n",
       "      <td>1.000000</td>\n",
       "      <td>0.100000</td>\n",
       "      <td>647.000000</td>\n",
       "      <td>7.000000</td>\n",
       "      <td>0.100000</td>\n",
       "      <td>383.000000</td>\n",
       "      <td>2.000000</td>\n",
       "      <td>322.000000</td>\n",
       "      <td>2.000000</td>\n",
       "      <td>221.000000</td>\n",
       "      <td>-1.900000</td>\n",
       "      <td>9.200000</td>\n",
       "      <td>0.184700</td>\n",
       "      <td>551.000000</td>\n",
       "    </tr>\n",
       "    <tr>\n",
       "      <th>25%</th>\n",
       "      <td>6.000000</td>\n",
       "      <td>3.000000</td>\n",
       "      <td>1.100000</td>\n",
       "      <td>948.000000</td>\n",
       "      <td>88.000000</td>\n",
       "      <td>4.800000</td>\n",
       "      <td>750.000000</td>\n",
       "      <td>104.000000</td>\n",
       "      <td>658.000000</td>\n",
       "      <td>79.476190</td>\n",
       "      <td>748.000000</td>\n",
       "      <td>11.700000</td>\n",
       "      <td>35.700000</td>\n",
       "      <td>0.739725</td>\n",
       "      <td>1232.820000</td>\n",
       "    </tr>\n",
       "    <tr>\n",
       "      <th>50%</th>\n",
       "      <td>12.000000</td>\n",
       "      <td>6.000000</td>\n",
       "      <td>1.900000</td>\n",
       "      <td>1074.000000</td>\n",
       "      <td>160.500000</td>\n",
       "      <td>8.600000</td>\n",
       "      <td>923.000000</td>\n",
       "      <td>185.000000</td>\n",
       "      <td>797.000000</td>\n",
       "      <td>110.000000</td>\n",
       "      <td>978.000000</td>\n",
       "      <td>17.800000</td>\n",
       "      <td>49.400000</td>\n",
       "      <td>0.997100</td>\n",
       "      <td>1469.000000</td>\n",
       "    </tr>\n",
       "    <tr>\n",
       "      <th>75%</th>\n",
       "      <td>18.000000</td>\n",
       "      <td>10.000000</td>\n",
       "      <td>2.800000</td>\n",
       "      <td>1234.000000</td>\n",
       "      <td>307.500000</td>\n",
       "      <td>14.100000</td>\n",
       "      <td>1118.000000</td>\n",
       "      <td>322.000000</td>\n",
       "      <td>952.000000</td>\n",
       "      <td>138.000000</td>\n",
       "      <td>1276.000000</td>\n",
       "      <td>24.600000</td>\n",
       "      <td>62.000000</td>\n",
       "      <td>1.306927</td>\n",
       "      <td>1674.750000</td>\n",
       "    </tr>\n",
       "    <tr>\n",
       "      <th>max</th>\n",
       "      <td>23.000000</td>\n",
       "      <td>12.000000</td>\n",
       "      <td>11.900000</td>\n",
       "      <td>2040.000000</td>\n",
       "      <td>1189.000000</td>\n",
       "      <td>63.700000</td>\n",
       "      <td>2214.000000</td>\n",
       "      <td>1479.000000</td>\n",
       "      <td>2683.000000</td>\n",
       "      <td>340.000000</td>\n",
       "      <td>2523.000000</td>\n",
       "      <td>44.600000</td>\n",
       "      <td>88.700000</td>\n",
       "      <td>2.231000</td>\n",
       "      <td>2775.000000</td>\n",
       "    </tr>\n",
       "  </tbody>\n",
       "</table>\n",
       "</div>"
      ],
      "text/plain": [
       "              time          mes        co_gt    pt08s1_co      nmhc_gt  \\\n",
       "count  8894.000000  8894.000000  8894.000000  8894.000000  8894.000000   \n",
       "mean     11.888689     6.361255     2.161438  1106.492442   230.734883   \n",
       "std       6.858285     3.534417     1.380152   212.975420   201.805238   \n",
       "min       0.000000     1.000000     0.100000   647.000000     7.000000   \n",
       "25%       6.000000     3.000000     1.100000   948.000000    88.000000   \n",
       "50%      12.000000     6.000000     1.900000  1074.000000   160.500000   \n",
       "75%      18.000000    10.000000     2.800000  1234.000000   307.500000   \n",
       "max      23.000000    12.000000    11.900000  2040.000000  1189.000000   \n",
       "\n",
       "           c6h6_gt  pt08s2_nmhc       nox_gt   pt08s3_nox       no2_gt  \\\n",
       "count  8894.000000  8894.000000  8894.000000  8894.000000  8894.000000   \n",
       "mean     10.274375   947.285469   245.483123   826.068018   112.221716   \n",
       "std       7.343586   262.011256   202.332514   249.204066    46.189651   \n",
       "min       0.100000   383.000000     2.000000   322.000000     2.000000   \n",
       "25%       4.800000   750.000000   104.000000   658.000000    79.476190   \n",
       "50%       8.600000   923.000000   185.000000   797.000000   110.000000   \n",
       "75%      14.100000  1118.000000   322.000000   952.000000   138.000000   \n",
       "max      63.700000  2214.000000  1479.000000  2683.000000   340.000000   \n",
       "\n",
       "         pt08s5_o3            t           rh           ah   pt08s4_no2  \n",
       "count  8894.000000  8894.000000  8894.000000  8894.000000  8894.000000  \n",
       "mean   1032.302291    18.380559    49.053549     1.025174  1458.581503  \n",
       "std     392.917869     8.872402    17.283098     0.401038   343.617890  \n",
       "min     221.000000    -1.900000     9.200000     0.184700   551.000000  \n",
       "25%     748.000000    11.700000    35.700000     0.739725  1232.820000  \n",
       "50%     978.000000    17.800000    49.400000     0.997100  1469.000000  \n",
       "75%    1276.000000    24.600000    62.000000     1.306927  1674.750000  \n",
       "max    2523.000000    44.600000    88.700000     2.231000  2775.000000  "
      ]
     },
     "execution_count": 12,
     "metadata": {},
     "output_type": "execute_result"
    }
   ],
   "source": [
    "df_airq.describe()"
   ]
  },
  {
   "cell_type": "code",
   "execution_count": 13,
   "metadata": {},
   "outputs": [],
   "source": [
    "# Gerando número de observações e variáveis\n",
    "observacoes = len(df_airq)\n",
    "variaveis = df_airq.columns[:-1]"
   ]
  },
  {
   "cell_type": "code",
   "execution_count": 14,
   "metadata": {},
   "outputs": [],
   "source": [
    "# Coletando x e y\n",
    "X = df_airq.iloc[:,:-1]\n",
    "y = df_airq['pt08s4_no2'].values"
   ]
  },
  {
   "cell_type": "code",
   "execution_count": 15,
   "metadata": {},
   "outputs": [],
   "source": [
    "# Criando modelo\n",
    "Xc = sm.add_constant(X)\n",
    "modelo_v1 = sm.OLS(y, Xc)\n",
    "modelo_v2 = modelo_v1.fit()"
   ]
  },
  {
   "cell_type": "code",
   "execution_count": 16,
   "metadata": {},
   "outputs": [
    {
     "data": {
      "text/html": [
       "<table class=\"simpletable\">\n",
       "<caption>OLS Regression Results</caption>\n",
       "<tr>\n",
       "  <th>Dep. Variable:</th>            <td>y</td>        <th>  R-squared:         </th> <td>   0.937</td> \n",
       "</tr>\n",
       "<tr>\n",
       "  <th>Model:</th>                   <td>OLS</td>       <th>  Adj. R-squared:    </th> <td>   0.937</td> \n",
       "</tr>\n",
       "<tr>\n",
       "  <th>Method:</th>             <td>Least Squares</td>  <th>  F-statistic:       </th> <td>   9499.</td> \n",
       "</tr>\n",
       "<tr>\n",
       "  <th>Date:</th>             <td>Sat, 27 Oct 2018</td> <th>  Prob (F-statistic):</th>  <td>  0.00</td>  \n",
       "</tr>\n",
       "<tr>\n",
       "  <th>Time:</th>                 <td>18:18:57</td>     <th>  Log-Likelihood:    </th> <td> -52233.</td> \n",
       "</tr>\n",
       "<tr>\n",
       "  <th>No. Observations:</th>      <td>  8894</td>      <th>  AIC:               </th> <td>1.045e+05</td>\n",
       "</tr>\n",
       "<tr>\n",
       "  <th>Df Residuals:</th>          <td>  8879</td>      <th>  BIC:               </th> <td>1.046e+05</td>\n",
       "</tr>\n",
       "<tr>\n",
       "  <th>Df Model:</th>              <td>    14</td>      <th>                     </th>     <td> </td>    \n",
       "</tr>\n",
       "<tr>\n",
       "  <th>Covariance Type:</th>      <td>nonrobust</td>    <th>                     </th>     <td> </td>    \n",
       "</tr>\n",
       "</table>\n",
       "<table class=\"simpletable\">\n",
       "<tr>\n",
       "       <td></td>          <th>coef</th>     <th>std err</th>      <th>t</th>      <th>P>|t|</th>  <th>[0.025</th>    <th>0.975]</th>  \n",
       "</tr>\n",
       "<tr>\n",
       "  <th>const</th>       <td> -655.3948</td> <td>   22.573</td> <td>  -29.034</td> <td> 0.000</td> <td> -699.643</td> <td> -611.146</td>\n",
       "</tr>\n",
       "<tr>\n",
       "  <th>time</th>        <td>   -2.5124</td> <td>    0.163</td> <td>  -15.431</td> <td> 0.000</td> <td>   -2.832</td> <td>   -2.193</td>\n",
       "</tr>\n",
       "<tr>\n",
       "  <th>mes</th>         <td>   -3.1275</td> <td>    0.302</td> <td>  -10.342</td> <td> 0.000</td> <td>   -3.720</td> <td>   -2.535</td>\n",
       "</tr>\n",
       "<tr>\n",
       "  <th>co_gt</th>       <td>   48.0856</td> <td>    1.705</td> <td>   28.211</td> <td> 0.000</td> <td>   44.744</td> <td>   51.427</td>\n",
       "</tr>\n",
       "<tr>\n",
       "  <th>pt08s1_co</th>   <td>    0.2572</td> <td>    0.012</td> <td>   20.590</td> <td> 0.000</td> <td>    0.233</td> <td>    0.282</td>\n",
       "</tr>\n",
       "<tr>\n",
       "  <th>nmhc_gt</th>     <td>    0.0055</td> <td>    0.006</td> <td>    0.988</td> <td> 0.323</td> <td>   -0.005</td> <td>    0.016</td>\n",
       "</tr>\n",
       "<tr>\n",
       "  <th>c6h6_gt</th>     <td>   -3.2251</td> <td>    0.817</td> <td>   -3.950</td> <td> 0.000</td> <td>   -4.826</td> <td>   -1.625</td>\n",
       "</tr>\n",
       "<tr>\n",
       "  <th>pt08s2_nmhc</th> <td>    1.1742</td> <td>    0.027</td> <td>   43.722</td> <td> 0.000</td> <td>    1.122</td> <td>    1.227</td>\n",
       "</tr>\n",
       "<tr>\n",
       "  <th>nox_gt</th>      <td>   -0.5366</td> <td>    0.010</td> <td>  -52.501</td> <td> 0.000</td> <td>   -0.557</td> <td>   -0.517</td>\n",
       "</tr>\n",
       "<tr>\n",
       "  <th>pt08s3_nox</th>  <td>    0.3418</td> <td>    0.008</td> <td>   43.938</td> <td> 0.000</td> <td>    0.327</td> <td>    0.357</td>\n",
       "</tr>\n",
       "<tr>\n",
       "  <th>no2_gt</th>      <td>   -0.0155</td> <td>    0.042</td> <td>   -0.370</td> <td> 0.712</td> <td>   -0.098</td> <td>    0.067</td>\n",
       "</tr>\n",
       "<tr>\n",
       "  <th>pt08s5_o3</th>   <td>   -0.0278</td> <td>    0.007</td> <td>   -3.922</td> <td> 0.000</td> <td>   -0.042</td> <td>   -0.014</td>\n",
       "</tr>\n",
       "<tr>\n",
       "  <th>t</th>           <td>    8.6031</td> <td>    0.387</td> <td>   22.205</td> <td> 0.000</td> <td>    7.844</td> <td>    9.363</td>\n",
       "</tr>\n",
       "<tr>\n",
       "  <th>rh</th>          <td>    3.2652</td> <td>    0.150</td> <td>   21.820</td> <td> 0.000</td> <td>    2.972</td> <td>    3.559</td>\n",
       "</tr>\n",
       "<tr>\n",
       "  <th>ah</th>          <td>  250.0144</td> <td>    6.974</td> <td>   35.850</td> <td> 0.000</td> <td>  236.344</td> <td>  263.685</td>\n",
       "</tr>\n",
       "</table>\n",
       "<table class=\"simpletable\">\n",
       "<tr>\n",
       "  <th>Omnibus:</th>       <td>1488.562</td> <th>  Durbin-Watson:     </th> <td>   0.952</td> \n",
       "</tr>\n",
       "<tr>\n",
       "  <th>Prob(Omnibus):</th>  <td> 0.000</td>  <th>  Jarque-Bera (JB):  </th> <td>10069.422</td>\n",
       "</tr>\n",
       "<tr>\n",
       "  <th>Skew:</th>           <td>-0.629</td>  <th>  Prob(JB):          </th> <td>    0.00</td> \n",
       "</tr>\n",
       "<tr>\n",
       "  <th>Kurtosis:</th>       <td> 8.058</td>  <th>  Cond. No.          </th> <td>5.04e+04</td> \n",
       "</tr>\n",
       "</table><br/><br/>Warnings:<br/>[1] Standard Errors assume that the covariance matrix of the errors is correctly specified.<br/>[2] The condition number is large, 5.04e+04. This might indicate that there are<br/>strong multicollinearity or other numerical problems."
      ],
      "text/plain": [
       "<class 'statsmodels.iolib.summary.Summary'>\n",
       "\"\"\"\n",
       "                            OLS Regression Results                            \n",
       "==============================================================================\n",
       "Dep. Variable:                      y   R-squared:                       0.937\n",
       "Model:                            OLS   Adj. R-squared:                  0.937\n",
       "Method:                 Least Squares   F-statistic:                     9499.\n",
       "Date:                Sat, 27 Oct 2018   Prob (F-statistic):               0.00\n",
       "Time:                        18:18:57   Log-Likelihood:                -52233.\n",
       "No. Observations:                8894   AIC:                         1.045e+05\n",
       "Df Residuals:                    8879   BIC:                         1.046e+05\n",
       "Df Model:                          14                                         \n",
       "Covariance Type:            nonrobust                                         \n",
       "===============================================================================\n",
       "                  coef    std err          t      P>|t|      [0.025      0.975]\n",
       "-------------------------------------------------------------------------------\n",
       "const        -655.3948     22.573    -29.034      0.000    -699.643    -611.146\n",
       "time           -2.5124      0.163    -15.431      0.000      -2.832      -2.193\n",
       "mes            -3.1275      0.302    -10.342      0.000      -3.720      -2.535\n",
       "co_gt          48.0856      1.705     28.211      0.000      44.744      51.427\n",
       "pt08s1_co       0.2572      0.012     20.590      0.000       0.233       0.282\n",
       "nmhc_gt         0.0055      0.006      0.988      0.323      -0.005       0.016\n",
       "c6h6_gt        -3.2251      0.817     -3.950      0.000      -4.826      -1.625\n",
       "pt08s2_nmhc     1.1742      0.027     43.722      0.000       1.122       1.227\n",
       "nox_gt         -0.5366      0.010    -52.501      0.000      -0.557      -0.517\n",
       "pt08s3_nox      0.3418      0.008     43.938      0.000       0.327       0.357\n",
       "no2_gt         -0.0155      0.042     -0.370      0.712      -0.098       0.067\n",
       "pt08s5_o3      -0.0278      0.007     -3.922      0.000      -0.042      -0.014\n",
       "t               8.6031      0.387     22.205      0.000       7.844       9.363\n",
       "rh              3.2652      0.150     21.820      0.000       2.972       3.559\n",
       "ah            250.0144      6.974     35.850      0.000     236.344     263.685\n",
       "==============================================================================\n",
       "Omnibus:                     1488.562   Durbin-Watson:                   0.952\n",
       "Prob(Omnibus):                  0.000   Jarque-Bera (JB):            10069.422\n",
       "Skew:                          -0.629   Prob(JB):                         0.00\n",
       "Kurtosis:                       8.058   Cond. No.                     5.04e+04\n",
       "==============================================================================\n",
       "\n",
       "Warnings:\n",
       "[1] Standard Errors assume that the covariance matrix of the errors is correctly specified.\n",
       "[2] The condition number is large, 5.04e+04. This might indicate that there are\n",
       "strong multicollinearity or other numerical problems.\n",
       "\"\"\""
      ]
     },
     "execution_count": 16,
     "metadata": {},
     "output_type": "execute_result"
    }
   ],
   "source": [
    "# Exibindo painel com resultados para análise\n",
    "modelo_v2.summary()"
   ]
  },
  {
   "cell_type": "code",
   "execution_count": 17,
   "metadata": {},
   "outputs": [],
   "source": [
    "# Criando um Correlation Plot\n",
    "def visualize_correlation_matrix(data, hurdle = 0.0):\n",
    "    R = np.corrcoef(data, rowvar = 0)\n",
    "    R[np.where(np.abs(R) < hurdle)] = 0.0\n",
    "    heatmap = plt.pcolor(R, cmap = mpl.cm.coolwarm, alpha = 0.8)\n",
    "    heatmap.axes.set_frame_on(False)\n",
    "    heatmap.axes.set_yticks(np.arange(R.shape[0]) + 0.5, minor = False)\n",
    "    heatmap.axes.set_xticks(np.arange(R.shape[1]) + 0.5, minor = False)\n",
    "    heatmap.axes.set_xticklabels(variaveis, minor = False)\n",
    "    plt.xticks(rotation=90)\n",
    "    heatmap.axes.set_yticklabels(variaveis, minor = False)\n",
    "    plt.tick_params(axis = 'both', which = 'both', bottom = 'off', top = 'off', left = 'off', right = 'off') \n",
    "    plt.colorbar()\n",
    "    plt.show()"
   ]
  },
  {
   "cell_type": "code",
   "execution_count": 18,
   "metadata": {},
   "outputs": [
    {
     "data": {
      "image/png": "[encoded data removed]",
      "text/plain": [
       "<Figure size 432x288 with 2 Axes>"
      ]
     },
     "metadata": {},
     "output_type": "display_data"
    }
   ],
   "source": [
    "# Visualizando o Plot\n",
    "visualize_correlation_matrix(X, hurdle = 0.5)"
   ]
  },
  {
   "cell_type": "markdown",
   "metadata": {},
   "source": [
    "# Avaliando a Multicolinearidade\n",
    "\n",
    "Como alternativa e complemento do gráfico analisado"
   ]
  },
  {
   "cell_type": "code",
   "execution_count": 19,
   "metadata": {},
   "outputs": [],
   "source": [
    "# Gerando eigenvalues e eigenvectors\n",
    "corr = np.corrcoef(X, rowvar = 0)\n",
    "eigenvalues, eigenvectors = np.linalg.eig(corr)"
   ]
  },
  {
   "cell_type": "code",
   "execution_count": 20,
   "metadata": {},
   "outputs": [
    {
     "name": "stdout",
     "output_type": "stream",
     "text": [
      "[6.5984044  2.13976764 1.66309954 1.14151962 0.68022968 0.55795104\n",
      " 0.40888238 0.31968644 0.00998619 0.15480026 0.03590988 0.11640736\n",
      " 0.07658106 0.09677451]\n"
     ]
    }
   ],
   "source": [
    "print(eigenvalues)"
   ]
  },
  {
   "cell_type": "code",
   "execution_count": 21,
   "metadata": {},
   "outputs": [
    {
     "name": "stdout",
     "output_type": "stream",
     "text": [
      "[ 0.0243947   0.01034511 -0.00554982 -0.00375339  0.0068935   0.62535482\n",
      " -0.75484645 -0.03688043 -0.09113409  0.03109201  0.05825652  0.12258148\n",
      "  0.06009621 -0.07536419]\n"
     ]
    }
   ],
   "source": [
    "print(eigenvectors[:,8])"
   ]
  },
  {
   "cell_type": "code",
   "execution_count": 22,
   "metadata": {},
   "outputs": [
    {
     "name": "stdout",
     "output_type": "stream",
     "text": [
      "c6h6_gt pt08s2_nmhc\n"
     ]
    }
   ],
   "source": [
    "# Variáveis identificadas que possuem o mesmo nível de informação e que devem ser removidas\n",
    "print(variaveis[5], variaveis[6])"
   ]
  },
  {
   "cell_type": "markdown",
   "metadata": {},
   "source": [
    "# Recalculando modelo \n",
    "Foram removidas as variáveis identificadas na análise multicolinearidade. </p>\n",
    "Foram removidas as variáveis onde o P é maior que 0.005.</p>\n",
    "\n",
    "Foram removidas as variáveis que estão próximas de 0 na análise de correlação (matriz) </p>"
   ]
  },
  {
   "cell_type": "code",
   "execution_count": 23,
   "metadata": {},
   "outputs": [
    {
     "data": {
      "text/html": [
       "<div>\n",
       "<style scoped>\n",
       "    .dataframe tbody tr th:only-of-type {\n",
       "        vertical-align: middle;\n",
       "    }\n",
       "\n",
       "    .dataframe tbody tr th {\n",
       "        vertical-align: top;\n",
       "    }\n",
       "\n",
       "    .dataframe thead th {\n",
       "        text-align: right;\n",
       "    }\n",
       "</style>\n",
       "<table border=\"1\" class=\"dataframe\">\n",
       "  <thead>\n",
       "    <tr style=\"text-align: right;\">\n",
       "      <th></th>\n",
       "      <th>time</th>\n",
       "      <th>mes</th>\n",
       "      <th>co_gt</th>\n",
       "      <th>pt08s1_co</th>\n",
       "      <th>nmhc_gt</th>\n",
       "      <th>c6h6_gt</th>\n",
       "      <th>pt08s2_nmhc</th>\n",
       "      <th>nox_gt</th>\n",
       "      <th>pt08s3_nox</th>\n",
       "      <th>no2_gt</th>\n",
       "      <th>pt08s5_o3</th>\n",
       "      <th>t</th>\n",
       "      <th>rh</th>\n",
       "      <th>ah</th>\n",
       "      <th>pt08s4_no2</th>\n",
       "    </tr>\n",
       "  </thead>\n",
       "  <tbody>\n",
       "    <tr>\n",
       "      <th>0</th>\n",
       "      <td>18</td>\n",
       "      <td>10</td>\n",
       "      <td>2.6</td>\n",
       "      <td>1360.0</td>\n",
       "      <td>150.0</td>\n",
       "      <td>11.9</td>\n",
       "      <td>1046.0</td>\n",
       "      <td>166.0</td>\n",
       "      <td>1056.0</td>\n",
       "      <td>113.0</td>\n",
       "      <td>1268.0</td>\n",
       "      <td>13.6</td>\n",
       "      <td>48.9</td>\n",
       "      <td>0.7578</td>\n",
       "      <td>1692.0</td>\n",
       "    </tr>\n",
       "    <tr>\n",
       "      <th>1</th>\n",
       "      <td>18</td>\n",
       "      <td>10</td>\n",
       "      <td>2.0</td>\n",
       "      <td>1037.0</td>\n",
       "      <td>165.0</td>\n",
       "      <td>8.7</td>\n",
       "      <td>927.0</td>\n",
       "      <td>122.0</td>\n",
       "      <td>949.0</td>\n",
       "      <td>111.0</td>\n",
       "      <td>740.0</td>\n",
       "      <td>18.3</td>\n",
       "      <td>31.6</td>\n",
       "      <td>0.6562</td>\n",
       "      <td>1426.0</td>\n",
       "    </tr>\n",
       "    <tr>\n",
       "      <th>2</th>\n",
       "      <td>18</td>\n",
       "      <td>10</td>\n",
       "      <td>3.6</td>\n",
       "      <td>1267.0</td>\n",
       "      <td>157.5</td>\n",
       "      <td>22.0</td>\n",
       "      <td>1352.0</td>\n",
       "      <td>188.0</td>\n",
       "      <td>651.0</td>\n",
       "      <td>124.0</td>\n",
       "      <td>1196.0</td>\n",
       "      <td>21.0</td>\n",
       "      <td>37.8</td>\n",
       "      <td>0.9298</td>\n",
       "      <td>1961.0</td>\n",
       "    </tr>\n",
       "    <tr>\n",
       "      <th>3</th>\n",
       "      <td>18</td>\n",
       "      <td>10</td>\n",
       "      <td>4.8</td>\n",
       "      <td>1372.0</td>\n",
       "      <td>157.5</td>\n",
       "      <td>25.9</td>\n",
       "      <td>1451.0</td>\n",
       "      <td>318.0</td>\n",
       "      <td>631.0</td>\n",
       "      <td>206.0</td>\n",
       "      <td>1541.0</td>\n",
       "      <td>35.8</td>\n",
       "      <td>22.1</td>\n",
       "      <td>1.2792</td>\n",
       "      <td>2183.0</td>\n",
       "    </tr>\n",
       "    <tr>\n",
       "      <th>4</th>\n",
       "      <td>18</td>\n",
       "      <td>10</td>\n",
       "      <td>0.8</td>\n",
       "      <td>859.0</td>\n",
       "      <td>157.5</td>\n",
       "      <td>5.8</td>\n",
       "      <td>803.0</td>\n",
       "      <td>50.0</td>\n",
       "      <td>1032.0</td>\n",
       "      <td>67.0</td>\n",
       "      <td>479.0</td>\n",
       "      <td>30.3</td>\n",
       "      <td>21.4</td>\n",
       "      <td>0.9064</td>\n",
       "      <td>1363.0</td>\n",
       "    </tr>\n",
       "  </tbody>\n",
       "</table>\n",
       "</div>"
      ],
      "text/plain": [
       "   time  mes  co_gt  pt08s1_co  nmhc_gt  c6h6_gt  pt08s2_nmhc  nox_gt  \\\n",
       "0    18   10    2.6     1360.0    150.0     11.9       1046.0   166.0   \n",
       "1    18   10    2.0     1037.0    165.0      8.7        927.0   122.0   \n",
       "2    18   10    3.6     1267.0    157.5     22.0       1352.0   188.0   \n",
       "3    18   10    4.8     1372.0    157.5     25.9       1451.0   318.0   \n",
       "4    18   10    0.8      859.0    157.5      5.8        803.0    50.0   \n",
       "\n",
       "   pt08s3_nox  no2_gt  pt08s5_o3     t    rh      ah  pt08s4_no2  \n",
       "0      1056.0   113.0     1268.0  13.6  48.9  0.7578      1692.0  \n",
       "1       949.0   111.0      740.0  18.3  31.6  0.6562      1426.0  \n",
       "2       651.0   124.0     1196.0  21.0  37.8  0.9298      1961.0  \n",
       "3       631.0   206.0     1541.0  35.8  22.1  1.2792      2183.0  \n",
       "4      1032.0    67.0      479.0  30.3  21.4  0.9064      1363.0  "
      ]
     },
     "execution_count": 23,
     "metadata": {},
     "output_type": "execute_result"
    }
   ],
   "source": [
    "df_airq.head(5)"
   ]
  },
  {
   "cell_type": "code",
   "execution_count": 24,
   "metadata": {},
   "outputs": [],
   "source": [
    "# Coletando x e y\n",
    "X = df_airq.iloc[:,np.r_[2,3,7,8,10,11,12,13]]\n",
    "y = df_airq['pt08s4_no2'].values"
   ]
  },
  {
   "cell_type": "code",
   "execution_count": 25,
   "metadata": {},
   "outputs": [],
   "source": [
    "Xc = sm.add_constant(X)\n",
    "modelo_v1 = sm.OLS(y, Xc)\n",
    "modelo_v2 = modelo_v1.fit()"
   ]
  },
  {
   "cell_type": "code",
   "execution_count": 26,
   "metadata": {},
   "outputs": [
    {
     "data": {
      "text/html": [
       "<table class=\"simpletable\">\n",
       "<caption>OLS Regression Results</caption>\n",
       "<tr>\n",
       "  <th>Dep. Variable:</th>            <td>y</td>        <th>  R-squared:         </th> <td>   0.880</td> \n",
       "</tr>\n",
       "<tr>\n",
       "  <th>Model:</th>                   <td>OLS</td>       <th>  Adj. R-squared:    </th> <td>   0.880</td> \n",
       "</tr>\n",
       "<tr>\n",
       "  <th>Method:</th>             <td>Least Squares</td>  <th>  F-statistic:       </th> <td>   8167.</td> \n",
       "</tr>\n",
       "<tr>\n",
       "  <th>Date:</th>             <td>Sat, 27 Oct 2018</td> <th>  Prob (F-statistic):</th>  <td>  0.00</td>  \n",
       "</tr>\n",
       "<tr>\n",
       "  <th>Time:</th>                 <td>18:19:06</td>     <th>  Log-Likelihood:    </th> <td> -55117.</td> \n",
       "</tr>\n",
       "<tr>\n",
       "  <th>No. Observations:</th>      <td>  8894</td>      <th>  AIC:               </th> <td>1.103e+05</td>\n",
       "</tr>\n",
       "<tr>\n",
       "  <th>Df Residuals:</th>          <td>  8885</td>      <th>  BIC:               </th> <td>1.103e+05</td>\n",
       "</tr>\n",
       "<tr>\n",
       "  <th>Df Model:</th>              <td>     8</td>      <th>                     </th>     <td> </td>    \n",
       "</tr>\n",
       "<tr>\n",
       "  <th>Covariance Type:</th>      <td>nonrobust</td>    <th>                     </th>     <td> </td>    \n",
       "</tr>\n",
       "</table>\n",
       "<table class=\"simpletable\">\n",
       "<tr>\n",
       "       <td></td>         <th>coef</th>     <th>std err</th>      <th>t</th>      <th>P>|t|</th>  <th>[0.025</th>    <th>0.975]</th>  \n",
       "</tr>\n",
       "<tr>\n",
       "  <th>const</th>      <td> -343.1623</td> <td>   19.431</td> <td>  -17.661</td> <td> 0.000</td> <td> -381.252</td> <td> -305.073</td>\n",
       "</tr>\n",
       "<tr>\n",
       "  <th>co_gt</th>      <td>  106.1252</td> <td>    2.065</td> <td>   51.402</td> <td> 0.000</td> <td>  102.078</td> <td>  110.172</td>\n",
       "</tr>\n",
       "<tr>\n",
       "  <th>pt08s1_co</th>  <td>    0.5997</td> <td>    0.016</td> <td>   38.216</td> <td> 0.000</td> <td>    0.569</td> <td>    0.630</td>\n",
       "</tr>\n",
       "<tr>\n",
       "  <th>nox_gt</th>     <td>   -0.6165</td> <td>    0.012</td> <td>  -50.093</td> <td> 0.000</td> <td>   -0.641</td> <td>   -0.592</td>\n",
       "</tr>\n",
       "<tr>\n",
       "  <th>pt08s3_nox</th> <td>    0.2021</td> <td>    0.009</td> <td>   22.134</td> <td> 0.000</td> <td>    0.184</td> <td>    0.220</td>\n",
       "</tr>\n",
       "<tr>\n",
       "  <th>pt08s5_o3</th>  <td>    0.2364</td> <td>    0.008</td> <td>   27.908</td> <td> 0.000</td> <td>    0.220</td> <td>    0.253</td>\n",
       "</tr>\n",
       "<tr>\n",
       "  <th>t</th>          <td>   15.7715</td> <td>    0.509</td> <td>   30.965</td> <td> 0.000</td> <td>   14.773</td> <td>   16.770</td>\n",
       "</tr>\n",
       "<tr>\n",
       "  <th>rh</th>         <td>    2.9991</td> <td>    0.200</td> <td>   14.961</td> <td> 0.000</td> <td>    2.606</td> <td>    3.392</td>\n",
       "</tr>\n",
       "<tr>\n",
       "  <th>ah</th>         <td>  206.8693</td> <td>    9.278</td> <td>   22.297</td> <td> 0.000</td> <td>  188.682</td> <td>  225.056</td>\n",
       "</tr>\n",
       "</table>\n",
       "<table class=\"simpletable\">\n",
       "<tr>\n",
       "  <th>Omnibus:</th>       <td>393.408</td> <th>  Durbin-Watson:     </th> <td>   0.972</td> \n",
       "</tr>\n",
       "<tr>\n",
       "  <th>Prob(Omnibus):</th> <td> 0.000</td>  <th>  Jarque-Bera (JB):  </th> <td> 833.380</td> \n",
       "</tr>\n",
       "<tr>\n",
       "  <th>Skew:</th>          <td> 0.301</td>  <th>  Prob(JB):          </th> <td>1.08e-181</td>\n",
       "</tr>\n",
       "<tr>\n",
       "  <th>Kurtosis:</th>      <td> 4.373</td>  <th>  Cond. No.          </th> <td>2.75e+04</td> \n",
       "</tr>\n",
       "</table><br/><br/>Warnings:<br/>[1] Standard Errors assume that the covariance matrix of the errors is correctly specified.<br/>[2] The condition number is large, 2.75e+04. This might indicate that there are<br/>strong multicollinearity or other numerical problems."
      ],
      "text/plain": [
       "<class 'statsmodels.iolib.summary.Summary'>\n",
       "\"\"\"\n",
       "                            OLS Regression Results                            \n",
       "==============================================================================\n",
       "Dep. Variable:                      y   R-squared:                       0.880\n",
       "Model:                            OLS   Adj. R-squared:                  0.880\n",
       "Method:                 Least Squares   F-statistic:                     8167.\n",
       "Date:                Sat, 27 Oct 2018   Prob (F-statistic):               0.00\n",
       "Time:                        18:19:06   Log-Likelihood:                -55117.\n",
       "No. Observations:                8894   AIC:                         1.103e+05\n",
       "Df Residuals:                    8885   BIC:                         1.103e+05\n",
       "Df Model:                           8                                         \n",
       "Covariance Type:            nonrobust                                         \n",
       "==============================================================================\n",
       "                 coef    std err          t      P>|t|      [0.025      0.975]\n",
       "------------------------------------------------------------------------------\n",
       "const       -343.1623     19.431    -17.661      0.000    -381.252    -305.073\n",
       "co_gt        106.1252      2.065     51.402      0.000     102.078     110.172\n",
       "pt08s1_co      0.5997      0.016     38.216      0.000       0.569       0.630\n",
       "nox_gt        -0.6165      0.012    -50.093      0.000      -0.641      -0.592\n",
       "pt08s3_nox     0.2021      0.009     22.134      0.000       0.184       0.220\n",
       "pt08s5_o3      0.2364      0.008     27.908      0.000       0.220       0.253\n",
       "t             15.7715      0.509     30.965      0.000      14.773      16.770\n",
       "rh             2.9991      0.200     14.961      0.000       2.606       3.392\n",
       "ah           206.8693      9.278     22.297      0.000     188.682     225.056\n",
       "==============================================================================\n",
       "Omnibus:                      393.408   Durbin-Watson:                   0.972\n",
       "Prob(Omnibus):                  0.000   Jarque-Bera (JB):              833.380\n",
       "Skew:                           0.301   Prob(JB):                    1.08e-181\n",
       "Kurtosis:                       4.373   Cond. No.                     2.75e+04\n",
       "==============================================================================\n",
       "\n",
       "Warnings:\n",
       "[1] Standard Errors assume that the covariance matrix of the errors is correctly specified.\n",
       "[2] The condition number is large, 2.75e+04. This might indicate that there are\n",
       "strong multicollinearity or other numerical problems.\n",
       "\"\"\""
      ]
     },
     "execution_count": 26,
     "metadata": {},
     "output_type": "execute_result"
    }
   ],
   "source": [
    "modelo_v2.summary()"
   ]
  },
  {
   "cell_type": "markdown",
   "metadata": {},
   "source": [
    "# Aplicando o modelo de Regressão usando Scikit Learn"
   ]
  },
  {
   "cell_type": "code",
   "execution_count": 27,
   "metadata": {},
   "outputs": [],
   "source": [
    "from sklearn import linear_model"
   ]
  },
  {
   "cell_type": "code",
   "execution_count": 28,
   "metadata": {},
   "outputs": [],
   "source": [
    "# Criando o objeto\n",
    "modelo = linear_model.LinearRegression(normalize = False, fit_intercept = True)"
   ]
  },
  {
   "cell_type": "code",
   "execution_count": 29,
   "metadata": {},
   "outputs": [],
   "source": [
    "# Definindo os valores de x e y\n",
    "num_observ = len(df_airq)\n",
    "X = df_airq.iloc[:,np.r_[2,3,7,8,10,11,12,13]].values.reshape((num_observ, 8)) # X deve sempre ser uma matriz e nunca um vetor\n",
    "y = df_airq['pt08s4_no2'].values # y pode ser um vetor"
   ]
  },
  {
   "cell_type": "code",
   "execution_count": 30,
   "metadata": {},
   "outputs": [
    {
     "data": {
      "text/plain": [
       "LinearRegression(copy_X=True, fit_intercept=True, n_jobs=1, normalize=False)"
      ]
     },
     "execution_count": 30,
     "metadata": {},
     "output_type": "execute_result"
    }
   ],
   "source": [
    "# Aplicando o modelo - fit()\n",
    "modelo.fit(X,y)"
   ]
  },
  {
   "cell_type": "markdown",
   "metadata": {},
   "source": [
    "# Resultado"
   ]
  },
  {
   "cell_type": "code",
   "execution_count": 31,
   "metadata": {},
   "outputs": [
    {
     "name": "stdout",
     "output_type": "stream",
     "text": [
      "[ 1.06125157e+02  5.99694069e-01 -6.16458541e-01  2.02126332e-01\n",
      "  2.36443724e-01  1.57715005e+01  2.99909976e+00  2.06869276e+02]\n",
      "-343.16228768499263\n"
     ]
    }
   ],
   "source": [
    "# Impressão dos coeficientes que serão usados para as previsões\n",
    "print (modelo.coef_)\n",
    "print (modelo.intercept_)"
   ]
  },
  {
   "cell_type": "code",
   "execution_count": 32,
   "metadata": {},
   "outputs": [
    {
     "name": "stdout",
     "output_type": "stream",
     "text": [
      "[1677.18490666 1301.68670859 1734.09192637 2180.41340569 1277.46654611\n",
      " 1849.91134601 1714.81176776 1653.02316833 1399.76657159 1728.21067383]\n"
     ]
    }
   ],
   "source": [
    "# Imprimindo as previsões\n",
    "print (modelo.predict(X)[:10])"
   ]
  },
  {
   "cell_type": "markdown",
   "metadata": {},
   "source": [
    "# Conclusão\n",
    "\n",
    "### Escolha do modelo:\n",
    "\n",
    "Método usado: Mínimos quadrados.<br/>\n",
    "Tipo Regressão: Regressão Linear Múltipla por se tratar de um problema com mais de uma variável.<br/>\n",
    "\n",
    "O statsModel foi usado para análise das variáveis por possuir mais informações estatísticas. O sckit Learn foi usado para aplicação do modelo, pois é mais rápido e mais adequado para Machine Learning.\n",
    "\n",
    "\n",
    "### Variáveis:\n",
    "\n",
    "Inicialmente não foram descartadas nenhuma das variáveis. <br/>\n",
    "\n",
    "A análise inicial revelou 2 variáveis que foram desconsideradas, pois estavam com P-value maior que 0.05.<br/>\n",
    "\n",
    "Aplicando o gráfico para analisar a matriz também identificamos, como era de se esperar, que as variáveis mes e time não tinham correlação com a variável target. Também identificamos que haviam duas variáveis com possível Multicolinearidade, que foi comprovado usando autovetores. Essas duas variáveis também foram desconsideradas do modelo.\n",
    "\n",
    "\n",
    "### Resultado:\n",
    "\n",
    "A avaliação do resultado depende de cada cenário e do resultado que se desseja obter. Outro ponto é que dependendo da necessidade (não trabalhando com risco de vida por exemplo), um modelo pode ser considerado bom acima de 50% na sua primeira instancia, sendo o ideal acima de 70%. Por esse motivo e considerando o fato de que para esse modelo não tenha um resultado esperado, o valor do R2 de **0.88** é considerado bom para o modelo proposto.\n",
    "\n",
    "É importante que o modelo esteja sempre em evolução para otimização e obtenção de melhores resultados comparado com a primeira instância."
   ]
  }
 ],
 "metadata": {
  "kernelspec": {
   "display_name": "Python 3",
   "language": "python",
   "name": "python3"
  },
  "language_info": {
   "codemirror_mode": {
    "name": "ipython",
    "version": 3
   },
   "file_extension": ".py",
   "mimetype": "text/x-python",
   "name": "python",
   "nbconvert_exporter": "python",
   "pygments_lexer": "ipython3",
   "version": "3.7.1"
  }
 },
 "nbformat": 4,
 "nbformat_minor": 2
}
