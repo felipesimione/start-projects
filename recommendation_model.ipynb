{
 "cells": [
  {
   "cell_type": "markdown",
   "metadata": {},
   "source": [
    "# DESAFIO MODELO DE RECOMENDAÇÃO\n",
    "\n",
    "### Objetivo:\n",
    "\n",
    "Criar um modelo de Recomendação de Produtos a partir da base de dados pública Online Retail que pode ser encontrada nesta URL: http://archive.ics.uci.edu/ml/datasets/Online+Retail\n",
    "\n",
    "### Necessidade:\n",
    "\n",
    "O modelo de recomendação em Python foi desenvolvido com base nos critérios abaixo:\n",
    "\n",
    "•\tExplicar o porque escolheu o algoritmo de recomendação usado (e porque não usou outros);<br/>\n",
    "•\tReceber as entradas específicas (escolher as variáveis pertinentes);<br/>\n",
    "•\tJustificar a escolha das variáveis;<br/>\n",
    "•\tJustificar a performance do modelo de recomendação, com base nos métodos de avaliação pertinentes.<br/>\n",
    "\n"
   ]
  },
  {
   "cell_type": "code",
   "execution_count": 2,
   "metadata": {},
   "outputs": [],
   "source": [
    "import pandas as pd\n",
    "import numpy as np\n",
    "from mlxtend.frequent_patterns import apriori\n",
    "from mlxtend.frequent_patterns import association_rules\n",
    "import random\n",
    "import matplotlib.pyplot as plt\n",
    "import seaborn as sns\n",
    "%matplotlib inline"
   ]
  },
  {
   "cell_type": "code",
   "execution_count": 3,
   "metadata": {},
   "outputs": [],
   "source": [
    "def create_basket(pais, df):\n",
    "    \"\"\"\n",
    "    Criar dataframe matriz com dados de do país especificado no modelo do apriori\n",
    "    Args: \n",
    "        pais = País que deseja filtrar\n",
    "        df = dataframe que deseja aplicar a regra\n",
    "    Return: DataFrame com os dados já no modelo que o apriori necessita\n",
    "    \"\"\"\n",
    "    basket = (df[df['Country'] == pais]\n",
    "          .groupby(['InvoiceNo', 'Description'])['Quantity']\n",
    "          .sum().unstack().reset_index().fillna(0)\n",
    "          .set_index('InvoiceNo'))\n",
    "    basket = basket.applymap(lambda x: 1 if x >= 1 else 0)\n",
    "    return basket"
   ]
  },
  {
   "cell_type": "code",
   "execution_count": 4,
   "metadata": {},
   "outputs": [],
   "source": [
    "# Carregando os dados \n",
    "df_vendas = pd.read_excel(\"Online Retail.xlsx\")"
   ]
  },
  {
   "cell_type": "code",
   "execution_count": 5,
   "metadata": {},
   "outputs": [
    {
     "name": "stdout",
     "output_type": "stream",
     "text": [
      "<class 'pandas.core.frame.DataFrame'>\n",
      "Int64Index: 540454 entries, 0 to 541908\n",
      "Data columns (total 8 columns):\n",
      "InvoiceNo      540454 non-null object\n",
      "StockCode      540454 non-null object\n",
      "Description    540454 non-null object\n",
      "Quantity       540454 non-null int64\n",
      "InvoiceDate    540454 non-null datetime64[ns]\n",
      "UnitPrice      540454 non-null float64\n",
      "CustomerID     406829 non-null float64\n",
      "Country        540454 non-null object\n",
      "dtypes: datetime64[ns](1), float64(2), int64(1), object(4)\n",
      "memory usage: 37.1+ MB\n"
     ]
    }
   ],
   "source": [
    "#remove Removendo valores NaN e espaços em branco\n",
    "df_vendas['Description'] = df_vendas['Description'].str.strip()\n",
    "df_vendas.dropna(axis=0, subset=['InvoiceNo'], inplace=True)\n",
    "df_vendas.dropna(axis=0, subset=['Description'], inplace=True)"
   ]
  },
  {
   "cell_type": "code",
   "execution_count": 6,
   "metadata": {},
   "outputs": [],
   "source": [
    "# Recomendo vendas canceladas\n",
    "df_vendas['InvoiceNo'] = df_vendas['InvoiceNo'].astype('str')\n",
    "df_vendas = df_vendas[~df_vendas['InvoiceNo'].str.contains('C')]"
   ]
  },
  {
   "cell_type": "code",
   "execution_count": 7,
   "metadata": {},
   "outputs": [
    {
     "data": {
      "text/plain": [
       "Country\n",
       "United Kingdom    486167\n",
       "Germany             9042\n",
       "France              8408\n",
       "EIRE                7894\n",
       "Spain               2485\n",
       "Name: InvoiceNo, dtype: int64"
      ]
     },
     "execution_count": 7,
     "metadata": {},
     "output_type": "execute_result"
    }
   ],
   "source": [
    "# Verificando os países que possuem mais dados\n",
    "df_vendas.groupby(['Country'])['InvoiceNo'].count().sort_values(ascending=False).head()"
   ]
  },
  {
   "cell_type": "markdown",
   "metadata": {},
   "source": [
    "De acordo com informação acima, podemos verificar os países que mais possuem informações para serem trabalhadas. Vamos trabalhar com os dois países que mais possuem dados, sendo Germany e France."
   ]
  },
  {
   "cell_type": "markdown",
   "metadata": {},
   "source": [
    "## Sistema de Recomendação Germany"
   ]
  },
  {
   "cell_type": "code",
   "execution_count": 174,
   "metadata": {},
   "outputs": [],
   "source": [
    "# Criando matriz com dados Germany\n",
    "basket_germany = create_basket(\"Germany\", df_vendas)"
   ]
  },
  {
   "cell_type": "code",
   "execution_count": 175,
   "metadata": {},
   "outputs": [],
   "source": [
    "# Deletando a segmentação POSTAGE, pois iremos trabalhar somente com os produtos para recomendação\n",
    "basket_germany.drop('POSTAGE', inplace=True, axis=1)"
   ]
  },
  {
   "cell_type": "code",
   "execution_count": 178,
   "metadata": {},
   "outputs": [
    {
     "data": {
      "text/html": [
       "<div>\n",
       "<style scoped>\n",
       "    .dataframe tbody tr th:only-of-type {\n",
       "        vertical-align: middle;\n",
       "    }\n",
       "\n",
       "    .dataframe tbody tr th {\n",
       "        vertical-align: top;\n",
       "    }\n",
       "\n",
       "    .dataframe thead th {\n",
       "        text-align: right;\n",
       "    }\n",
       "</style>\n",
       "<table border=\"1\" class=\"dataframe\">\n",
       "  <thead>\n",
       "    <tr style=\"text-align: right;\">\n",
       "      <th></th>\n",
       "      <th>antecedents</th>\n",
       "      <th>consequents</th>\n",
       "      <th>antecedent support</th>\n",
       "      <th>consequent support</th>\n",
       "      <th>support</th>\n",
       "      <th>confidence</th>\n",
       "      <th>lift</th>\n",
       "      <th>leverage</th>\n",
       "      <th>conviction</th>\n",
       "    </tr>\n",
       "  </thead>\n",
       "  <tbody>\n",
       "    <tr>\n",
       "      <th>38</th>\n",
       "      <td>(SET/6 RED SPOTTY PAPER PLATES)</td>\n",
       "      <td>(SET/6 RED SPOTTY PAPER CUPS)</td>\n",
       "      <td>0.056893</td>\n",
       "      <td>0.052516</td>\n",
       "      <td>0.045952</td>\n",
       "      <td>0.807692</td>\n",
       "      <td>15.379808</td>\n",
       "      <td>0.042964</td>\n",
       "      <td>4.926915</td>\n",
       "    </tr>\n",
       "    <tr>\n",
       "      <th>39</th>\n",
       "      <td>(SET/6 RED SPOTTY PAPER CUPS)</td>\n",
       "      <td>(SET/6 RED SPOTTY PAPER PLATES)</td>\n",
       "      <td>0.052516</td>\n",
       "      <td>0.056893</td>\n",
       "      <td>0.045952</td>\n",
       "      <td>0.875000</td>\n",
       "      <td>15.379808</td>\n",
       "      <td>0.042964</td>\n",
       "      <td>7.544858</td>\n",
       "    </tr>\n",
       "    <tr>\n",
       "      <th>24</th>\n",
       "      <td>(RED RETROSPOT CHARLOTTE BAG)</td>\n",
       "      <td>(WOODLAND CHARLOTTE BAG)</td>\n",
       "      <td>0.070022</td>\n",
       "      <td>0.126915</td>\n",
       "      <td>0.059081</td>\n",
       "      <td>0.843750</td>\n",
       "      <td>6.648168</td>\n",
       "      <td>0.050194</td>\n",
       "      <td>5.587746</td>\n",
       "    </tr>\n",
       "    <tr>\n",
       "      <th>25</th>\n",
       "      <td>(WOODLAND CHARLOTTE BAG)</td>\n",
       "      <td>(RED RETROSPOT CHARLOTTE BAG)</td>\n",
       "      <td>0.126915</td>\n",
       "      <td>0.070022</td>\n",
       "      <td>0.059081</td>\n",
       "      <td>0.465517</td>\n",
       "      <td>6.648168</td>\n",
       "      <td>0.050194</td>\n",
       "      <td>1.739959</td>\n",
       "    </tr>\n",
       "    <tr>\n",
       "      <th>2</th>\n",
       "      <td>(JUMBO BAG WOODLAND ANIMALS)</td>\n",
       "      <td>(JUMBO BAG RED RETROSPOT)</td>\n",
       "      <td>0.100656</td>\n",
       "      <td>0.078775</td>\n",
       "      <td>0.048140</td>\n",
       "      <td>0.478261</td>\n",
       "      <td>6.071256</td>\n",
       "      <td>0.040211</td>\n",
       "      <td>1.765682</td>\n",
       "    </tr>\n",
       "  </tbody>\n",
       "</table>\n",
       "</div>"
      ],
      "text/plain": [
       "                        antecedents                      consequents  \\\n",
       "38  (SET/6 RED SPOTTY PAPER PLATES)    (SET/6 RED SPOTTY PAPER CUPS)   \n",
       "39    (SET/6 RED SPOTTY PAPER CUPS)  (SET/6 RED SPOTTY PAPER PLATES)   \n",
       "24    (RED RETROSPOT CHARLOTTE BAG)         (WOODLAND CHARLOTTE BAG)   \n",
       "25         (WOODLAND CHARLOTTE BAG)    (RED RETROSPOT CHARLOTTE BAG)   \n",
       "2      (JUMBO BAG WOODLAND ANIMALS)        (JUMBO BAG RED RETROSPOT)   \n",
       "\n",
       "    antecedent support  consequent support   support  confidence       lift  \\\n",
       "38            0.056893            0.052516  0.045952    0.807692  15.379808   \n",
       "39            0.052516            0.056893  0.045952    0.875000  15.379808   \n",
       "24            0.070022            0.126915  0.059081    0.843750   6.648168   \n",
       "25            0.126915            0.070022  0.059081    0.465517   6.648168   \n",
       "2             0.100656            0.078775  0.048140    0.478261   6.071256   \n",
       "\n",
       "    leverage  conviction  \n",
       "38  0.042964    4.926915  \n",
       "39  0.042964    7.544858  \n",
       "24  0.050194    5.587746  \n",
       "25  0.050194    1.739959  \n",
       "2   0.040211    1.765682  "
      ]
     },
     "execution_count": 178,
     "metadata": {},
     "output_type": "execute_result"
    }
   ],
   "source": [
    "# Criando o modelo e imprimindo a saída da recomendação com os dados para análise para os 5 primeiros ordenados por lift\n",
    "frequent_itemsets = apriori(basket_germany, min_support=0.04, use_colnames=True)\n",
    "rules = association_rules(frequent_itemsets, metric=\"lift\", min_threshold=1)\n",
    "rules.sort_values(['lift'], ascending=False).head()"
   ]
  },
  {
   "cell_type": "markdown",
   "metadata": {},
   "source": [
    "Como podemos ver no quadro acima, um cliente tem 15 vezes mais chances de comprar \"SET/6 RED SPOTTY PAPER PLATES\" se comprar \"SET/6 RED SPOTTY PAPER CUPS\". Também podemos identificar que essa afirmação é embasada em uma confiança de 80,77%."
   ]
  },
  {
   "cell_type": "code",
   "execution_count": 165,
   "metadata": {},
   "outputs": [],
   "source": [
    "# Transformando os dados das colunas em array\n",
    "support = rules['support'].values\n",
    "confidence = rules['confidence'].values"
   ]
  },
  {
   "cell_type": "code",
   "execution_count": 166,
   "metadata": {},
   "outputs": [
    {
     "data": {
      "image/png": "[encoded data removed]",
      "text/plain": [
       "<Figure size 432x288 with 1 Axes>"
      ]
     },
     "metadata": {},
     "output_type": "display_data"
    },
    {
     "name": "stdout",
     "output_type": "stream",
     "text": [
      "52\n"
     ]
    }
   ],
   "source": [
    "# Preparando e plotanado gráfico de dispersão\n",
    "plt.scatter(support, confidence,   alpha=0.5, marker=\"*\")\n",
    "plt.xlabel('support')\n",
    "plt.ylabel('confidence') \n",
    "plt.show()\n",
    "print(len(support))"
   ]
  },
  {
   "cell_type": "markdown",
   "metadata": {},
   "source": [
    "Com o gráfico de dispersão acima conseguimos enxergar melhor os pontos de suporte e confiança das 52 duas relações identificadas."
   ]
  },
  {
   "cell_type": "markdown",
   "metadata": {},
   "source": [
    "## Sistema de Recomendação France"
   ]
  },
  {
   "cell_type": "code",
   "execution_count": 167,
   "metadata": {},
   "outputs": [],
   "source": [
    "# Criando matriz com dados France\n",
    "basket_france = create_basket(\"France\", df_vendas)\n",
    "basket_france.drop('POSTAGE', inplace=True, axis=1)"
   ]
  },
  {
   "cell_type": "code",
   "execution_count": 179,
   "metadata": {},
   "outputs": [
    {
     "data": {
      "text/html": [
       "<div>\n",
       "<style scoped>\n",
       "    .dataframe tbody tr th:only-of-type {\n",
       "        vertical-align: middle;\n",
       "    }\n",
       "\n",
       "    .dataframe tbody tr th {\n",
       "        vertical-align: top;\n",
       "    }\n",
       "\n",
       "    .dataframe thead th {\n",
       "        text-align: right;\n",
       "    }\n",
       "</style>\n",
       "<table border=\"1\" class=\"dataframe\">\n",
       "  <thead>\n",
       "    <tr style=\"text-align: right;\">\n",
       "      <th></th>\n",
       "      <th>antecedents</th>\n",
       "      <th>consequents</th>\n",
       "      <th>antecedent support</th>\n",
       "      <th>consequent support</th>\n",
       "      <th>support</th>\n",
       "      <th>confidence</th>\n",
       "      <th>lift</th>\n",
       "      <th>leverage</th>\n",
       "      <th>conviction</th>\n",
       "    </tr>\n",
       "  </thead>\n",
       "  <tbody>\n",
       "    <tr>\n",
       "      <th>6</th>\n",
       "      <td>(CHILDRENS CUTLERY DOLLY GIRL)</td>\n",
       "      <td>(CHILDRENS CUTLERY SPACEBOY)</td>\n",
       "      <td>0.071429</td>\n",
       "      <td>0.068878</td>\n",
       "      <td>0.063776</td>\n",
       "      <td>0.892857</td>\n",
       "      <td>12.962963</td>\n",
       "      <td>0.058856</td>\n",
       "      <td>8.690476</td>\n",
       "    </tr>\n",
       "    <tr>\n",
       "      <th>7</th>\n",
       "      <td>(CHILDRENS CUTLERY SPACEBOY)</td>\n",
       "      <td>(CHILDRENS CUTLERY DOLLY GIRL)</td>\n",
       "      <td>0.068878</td>\n",
       "      <td>0.071429</td>\n",
       "      <td>0.063776</td>\n",
       "      <td>0.925926</td>\n",
       "      <td>12.962963</td>\n",
       "      <td>0.058856</td>\n",
       "      <td>12.535714</td>\n",
       "    </tr>\n",
       "    <tr>\n",
       "      <th>38</th>\n",
       "      <td>(ALARM CLOCK BAKELIKE RED)</td>\n",
       "      <td>(ALARM CLOCK BAKELIKE PINK, ALARM CLOCK BAKELI...</td>\n",
       "      <td>0.094388</td>\n",
       "      <td>0.073980</td>\n",
       "      <td>0.063776</td>\n",
       "      <td>0.675676</td>\n",
       "      <td>9.133271</td>\n",
       "      <td>0.056793</td>\n",
       "      <td>2.855230</td>\n",
       "    </tr>\n",
       "    <tr>\n",
       "      <th>35</th>\n",
       "      <td>(ALARM CLOCK BAKELIKE PINK, ALARM CLOCK BAKELI...</td>\n",
       "      <td>(ALARM CLOCK BAKELIKE RED)</td>\n",
       "      <td>0.073980</td>\n",
       "      <td>0.094388</td>\n",
       "      <td>0.063776</td>\n",
       "      <td>0.862069</td>\n",
       "      <td>9.133271</td>\n",
       "      <td>0.056793</td>\n",
       "      <td>6.565689</td>\n",
       "    </tr>\n",
       "    <tr>\n",
       "      <th>34</th>\n",
       "      <td>(ALARM CLOCK BAKELIKE PINK, ALARM CLOCK BAKELI...</td>\n",
       "      <td>(ALARM CLOCK BAKELIKE GREEN)</td>\n",
       "      <td>0.073980</td>\n",
       "      <td>0.096939</td>\n",
       "      <td>0.063776</td>\n",
       "      <td>0.862069</td>\n",
       "      <td>8.892922</td>\n",
       "      <td>0.056604</td>\n",
       "      <td>6.547194</td>\n",
       "    </tr>\n",
       "  </tbody>\n",
       "</table>\n",
       "</div>"
      ],
      "text/plain": [
       "                                          antecedents  \\\n",
       "6                      (CHILDRENS CUTLERY DOLLY GIRL)   \n",
       "7                        (CHILDRENS CUTLERY SPACEBOY)   \n",
       "38                         (ALARM CLOCK BAKELIKE RED)   \n",
       "35  (ALARM CLOCK BAKELIKE PINK, ALARM CLOCK BAKELI...   \n",
       "34  (ALARM CLOCK BAKELIKE PINK, ALARM CLOCK BAKELI...   \n",
       "\n",
       "                                          consequents  antecedent support  \\\n",
       "6                        (CHILDRENS CUTLERY SPACEBOY)            0.071429   \n",
       "7                      (CHILDRENS CUTLERY DOLLY GIRL)            0.068878   \n",
       "38  (ALARM CLOCK BAKELIKE PINK, ALARM CLOCK BAKELI...            0.094388   \n",
       "35                         (ALARM CLOCK BAKELIKE RED)            0.073980   \n",
       "34                       (ALARM CLOCK BAKELIKE GREEN)            0.073980   \n",
       "\n",
       "    consequent support   support  confidence       lift  leverage  conviction  \n",
       "6             0.068878  0.063776    0.892857  12.962963  0.058856    8.690476  \n",
       "7             0.071429  0.063776    0.925926  12.962963  0.058856   12.535714  \n",
       "38            0.073980  0.063776    0.675676   9.133271  0.056793    2.855230  \n",
       "35            0.094388  0.063776    0.862069   9.133271  0.056793    6.565689  \n",
       "34            0.096939  0.063776    0.862069   8.892922  0.056604    6.547194  "
      ]
     },
     "execution_count": 179,
     "metadata": {},
     "output_type": "execute_result"
    }
   ],
   "source": [
    "# Criando o modelo e imprimindo a saída da recomendação com os dados para análise para os 5 primeiros ordenados por lift\n",
    "frequent_itemsets = apriori(basket_france, min_support=0.06, use_colnames=True)\n",
    "rules = association_rules(frequent_itemsets, metric=\"lift\", min_threshold=1)\n",
    "rules.sort_values(['lift'], ascending=False).head()"
   ]
  },
  {
   "cell_type": "code",
   "execution_count": 180,
   "metadata": {},
   "outputs": [],
   "source": [
    "# Transformando os dados das colunas em array\n",
    "support = rules['support'].values\n",
    "confidence = rules['confidence'].values"
   ]
  },
  {
   "cell_type": "code",
   "execution_count": 181,
   "metadata": {},
   "outputs": [
    {
     "data": {
      "image/png": "[encoded data removed]",
      "text/plain": [
       "<Figure size 432x288 with 1 Axes>"
      ]
     },
     "metadata": {},
     "output_type": "display_data"
    },
    {
     "name": "stdout",
     "output_type": "stream",
     "text": [
      "52\n"
     ]
    }
   ],
   "source": [
    "# Preparando e plotanado gráfico de dispersão\n",
    "plt.scatter(support, confidence,   alpha=0.5, marker=\"*\")\n",
    "plt.xlabel('support')\n",
    "plt.ylabel('confidence') \n",
    "plt.show()\n",
    "print(len(support))"
   ]
  },
  {
   "cell_type": "markdown",
   "metadata": {},
   "source": [
    "# Conclusão\n",
    "\n",
    "### Escolha do modelo:\n",
    "\n",
    "O modelo apriori foi escolhido por se tratar de um dos melhores e mais aplciados modelo Market Basket.\n",
    "\n",
    "### Variáveis:\n",
    "\n",
    "Tanto para support como min_threshold, mantive um valor inicial padrão sem demais considerações (somente para testes e análises). Analisando os dados em um primeira instancia podemos ir ajustando para chegar no ideal de acordo com o nosso objetivo. \n",
    "\n",
    "\n",
    "### Resultado:\n",
    "\n",
    "Olhando para as relações podemos identificar que perfis diferentes trazem relações diferentes como é o caso da segmentação país. Por esse motivo a análise exploratória e a análise do resultado de cada algorítimo é tão necessária. Temos que ficar atento para que os outputs, como nas recomendações, sejam verdadeiros e tragam resultados.\n",
    "\n",
    "Como resultado das recomendações já conseguiriamos fazer recomendações e identificar possíveis relações como por exemplo montagem de kits para aumento de ticket médio e margem. Esses resultados são de extrema importância não somente para recomendação aos usuários como também para apoiar o pessoal de várias áreas, como comercial (compras) e marketing (conteúdo).\n",
    "\n",
    "Obs: Podemos também analisar produtos e categorias em específico, porém precisariamos categorizar os itens."
   ]
  }
 ],
 "metadata": {
  "kernelspec": {
   "display_name": "Python 3",
   "language": "python",
   "name": "python3"
  },
  "language_info": {
   "codemirror_mode": {
    "name": "ipython",
    "version": 3
   },
   "file_extension": ".py",
   "mimetype": "text/x-python",
   "name": "python",
   "nbconvert_exporter": "python",
   "pygments_lexer": "ipython3",
   "version": "3.7.1"
  }
 },
 "nbformat": 4,
 "nbformat_minor": 2
}
